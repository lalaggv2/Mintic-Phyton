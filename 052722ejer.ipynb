{
  "nbformat": 4,
  "nbformat_minor": 0,
  "metadata": {
    "colab": {
      "name": "052722ejer.ipynb",
      "provenance": [],
      "authorship_tag": "ABX9TyPHxbmTg3OSZ+hyftnYkn4w",
      "include_colab_link": true
    },
    "kernelspec": {
      "name": "python3",
      "display_name": "Python 3"
    },
    "language_info": {
      "name": "python"
    }
  },
  "cells": [
    {
      "cell_type": "markdown",
      "metadata": {
        "id": "view-in-github",
        "colab_type": "text"
      },
      "source": [
        "<a href=\"https://colab.research.google.com/github/lalaggv2/Mintic-Phyton/blob/main/052722ejer.ipynb\" target=\"_parent\"><img src=\"https://colab.research.google.com/assets/colab-badge.svg\" alt=\"Open In Colab\"/></a>"
      ]
    },
    {
      "cell_type": "code",
      "execution_count": 1,
      "metadata": {
        "colab": {
          "base_uri": "https://localhost:8080/",
          "height": 134
        },
        "id": "867GrWzd-l7S",
        "outputId": "38ec89ce-8adc-400c-8968-330c4e4d739f"
      },
      "outputs": [
        {
          "output_type": "error",
          "ename": "IndentationError",
          "evalue": "ignored",
          "traceback": [
            "\u001b[0;36m  File \u001b[0;32m\"<ipython-input-1-c81761187321>\"\u001b[0;36m, line \u001b[0;32m23\u001b[0m\n\u001b[0;31m    elif opcion ==3:\u001b[0m\n\u001b[0m       ^\u001b[0m\n\u001b[0;31mIndentationError\u001b[0m\u001b[0;31m:\u001b[0m expected an indented block\n"
          ]
        }
      ],
      "source": [
        "#Mientras que -- while\n",
        "n=1\n",
        "n=0\n",
        "opcion = 0\n",
        "while(opcion != 5):\n",
        "    print(\" Digite dos números: \")\n",
        "    n1=int(input(\" Número 1: \"))\n",
        "    n2=int(input(\" Número 2: \"))\n",
        "    \n",
        "    print(\"\\n MENÚ \\n Digite el número correspondiente a la operación a realizar:\")\n",
        "    print(\"\\\n",
        "    n\\t1. Suma de los dos números\")\n",
        "    print(\"\\t2. Resta de los dos números\")\n",
        "    print(\"\\t3. Multiplicación de los dos números\")\n",
        "    print(\"\\t4. División de los dos números\")\n",
        "    print(\"\\t5. Salir\")\n",
        "    \n",
        "    opcion=int(input(\"\\n Digite la opción de la operación: \"))\n",
        "    if opcion ==1:\n",
        "      print(\" El resultado de la suma de \",n1,\"+\", n2, \"=\", n1+n2)\n",
        "    elif opcion ==2:\n",
        "    \n",
        "    \n",
        "    elif opcion ==3:\n",
        "      print(\" El resultado de la multiplicación de \",n1,\"x\", n2, \"=\", n1*n2)\n",
        "    elif opcion ==4:\n",
        "      print(\" El resultado de la división de \",n1,\"/\", n2, \"=\", n1/n2)\n",
        "    else:\n",
        "      print(\" opcion incorrecta \")\n"
      ]
    },
    {
      "cell_type": "code",
      "source": [
        "n=0\n",
        "while n < 5:\n",
        "    n += 1\n",
        "    print(n)\n"
      ],
      "metadata": {
        "id": "lGdzZ16s-zeJ"
      },
      "execution_count": null,
      "outputs": []
    },
    {
      "cell_type": "code",
      "source": [
        "n=1\n",
        "while n <= 5:\n",
        "    print(n)\n",
        "    n += 1\n"
      ],
      "metadata": {
        "id": "OJolmTVE-0YX"
      },
      "execution_count": null,
      "outputs": []
    },
    {
      "cell_type": "code",
      "source": [
        "#Mientras que -- while\n",
        "\"\"\"\n",
        "    Mientras [expresion_logica] Hacer\n",
        "        secuencia_de_acciones\n",
        "    Fin Mientras\n",
        "\n",
        "    while [expresion_logica]:\n",
        "        secuencia_de_acciones\n",
        "\"\"\"\n"
      ],
      "metadata": {
        "id": "kMvI6fzn-5re"
      },
      "execution_count": null,
      "outputs": []
    },
    {
      "cell_type": "code",
      "source": [
        "opcion = 0\n",
        "while(opcion != 5):\n",
        "    print(\" Digite dos números: \")\n",
        "    n1=int(input(\" Número 1: \"))\n",
        "    n2=int(input(\" Número 2: \"))\n",
        "    \n",
        "    print(\"\\n MENÚ \\n Digite el número correspondiente a la operación a realizar:\")\n",
        "    print(\"\\\n",
        "    n\\t1. Suma de los dos números\")\n",
        "    print(\"\\t2. Resta de los dos números\")\n",
        "    print(\"\\t3. Multiplicación de los dos números\")\n",
        "    print(\"\\t4. División de los dos números\")\n",
        "    print(\"\\t5. Salir\")\n",
        "\n",
        "    opcion=int(input(\"\\n Digite la opción de la operación: \"))\n",
        "    if opcion ==1:\n",
        "      print(\" El resultado de la suma de \",n1,\"+\", n2, \"=\", n1+n2)\n",
        "    elif opcion ==2:\n",
        "      print(\" El resultado de la resta de \",n1,\"-\", n2, \"=\", n1-n2)\n",
        "    elif opcion ==3:\n",
        "      print(\" El resultado de la multiplicación de \",n1,\"x\", n2, \"=\", n1*n2)\n",
        "    elif opcion ==4:\n",
        "      print(\" El resultado de la división de \",n1,\"/\", n2, \"=\", n1/n2)\n",
        "    else:\n",
        "      print(\" opcion incorrecta \")\n",
        "\n"
      ],
      "metadata": {
        "colab": {
          "base_uri": "https://localhost:8080/"
        },
        "id": "_t12pDvH_WAN",
        "outputId": "0353c0b7-58cc-4da2-8cf8-363ea3aa1836"
      },
      "execution_count": 7,
      "outputs": [
        {
          "output_type": "stream",
          "name": "stdout",
          "text": [
            " Digite dos números: \n",
            " Número 1: 45\n",
            " Número 2: 58\n",
            "\n",
            " MENÚ \n",
            " Digite el número correspondiente a la operación a realizar:\n",
            "    n\t1. Suma de los dos números\n",
            "\t2. Resta de los dos números\n",
            "\t3. Multiplicación de los dos números\n",
            "\t4. División de los dos números\n",
            "\t5. Salir\n",
            "\n",
            " Digite la opción de la operación: 8\n",
            " opcion incorrecta \n",
            " Digite dos números: \n",
            " Número 1: 1\n",
            " Número 2: 1\n",
            "\n",
            " MENÚ \n",
            " Digite el número correspondiente a la operación a realizar:\n",
            "    n\t1. Suma de los dos números\n",
            "\t2. Resta de los dos números\n",
            "\t3. Multiplicación de los dos números\n",
            "\t4. División de los dos números\n",
            "\t5. Salir\n",
            "\n",
            " Digite la opción de la operación: 4\n",
            " El resultado de la división de  1 / 1 = 1.0\n",
            " Digite dos números: \n",
            " Número 1: 5\n",
            " Número 2: 5\n",
            "\n",
            " MENÚ \n",
            " Digite el número correspondiente a la operación a realizar:\n",
            "    n\t1. Suma de los dos números\n",
            "\t2. Resta de los dos números\n",
            "\t3. Multiplicación de los dos números\n",
            "\t4. División de los dos números\n",
            "\t5. Salir\n",
            "\n",
            " Digite la opción de la operación: 5\n",
            " opcion incorrecta \n"
          ]
        }
      ]
    },
    {
      "cell_type": "code",
      "source": [
        "#Programa para calcular promedio\n",
        "num1 = float(input(\"Por favor ingrese un numero \"))\n",
        "num2 = float(input(\"Por favor ingrese un numero \"))\n",
        "num3 = float(input(\"Por favor ingrese un numero \"))\n",
        "\n",
        "#Calculo\n",
        "\n",
        "promedio = (num1 + num2 + num3)/3\n",
        "\n",
        "print(f\"El promedio de los 3 numeros es {promedio}.\")"
      ],
      "metadata": {
        "colab": {
          "base_uri": "https://localhost:8080/"
        },
        "id": "UJZiGbQtESM7",
        "outputId": "cd599ceb-de91-437a-f49d-ed7f7bbba6e0"
      },
      "execution_count": 8,
      "outputs": [
        {
          "output_type": "stream",
          "name": "stdout",
          "text": [
            "Por favor ingrese un numero2.3\n",
            "Por favor ingrese un numero6\n",
            "Por favor ingrese un numero7.5\n",
            "El promedio de los 3 numeros es 5.266666666666667.\n"
          ]
        }
      ]
    },
    {
      "cell_type": "code",
      "source": [
        "#Evaluador de capacidad de voto\n",
        "print(\"Buenos dias. Antes de proceder a votar, necesitamos validar que ud cumple los requisitos de edad necesarios./n Por favor digite su edad\")\n",
        "edad = int(input())\n",
        "\n",
        "#Validacion\n",
        "if edad >= 18:\n",
        "  print(\"Puede pasar a votar.\")\n",
        "else:\n",
        "  print(\"Lo siento, no puede votar. Intente de nuevo en las proximas elecciones.\")\n"
      ],
      "metadata": {
        "colab": {
          "base_uri": "https://localhost:8080/"
        },
        "id": "X4dG8dgeF7K5",
        "outputId": "62f8c74f-1ca3-435f-cb7b-2e355f853944"
      },
      "execution_count": 11,
      "outputs": [
        {
          "output_type": "stream",
          "name": "stdout",
          "text": [
            "Buenos dias. Antes de proceder a votar, necesitamos validar que ud cumple los requisitos de edad necesarios./n Por favor digite su edad\n",
            "12\n",
            "Lo siento, no puede votar. Intente de nuevo en las proximas elecciones.\n"
          ]
        }
      ]
    },
    {
      "cell_type": "code",
      "source": [
        "#Ordenar 2 numeros ingresados en forma descendente\n",
        "num1 = float(input(\"Por favor ingrese un numero \"))\n",
        "num2 = float(input(\"Por favor ingrese un numero \"))\n",
        "\n",
        "#Organizarlos en forma descendentes\n",
        "if num1 > num2:\n",
        "  print(\"El numero 1 es mayor al numero 2\")\n",
        "  print(num1, num2)\n",
        "else:\n",
        "  print(\"El numero 2 es mayor al numero 1\")\n",
        "  print(num2, num1)"
      ],
      "metadata": {
        "colab": {
          "base_uri": "https://localhost:8080/"
        },
        "id": "ZC0sDGVvHr-C",
        "outputId": "3e327d11-d7d8-4e82-f0ed-cda613e1320f"
      },
      "execution_count": 14,
      "outputs": [
        {
          "output_type": "stream",
          "name": "stdout",
          "text": [
            "Por favor ingrese un numero 6\n",
            "Por favor ingrese un numero 5\n",
            "El numero 1 es mayor al numero 2\n",
            "6.0 5.0\n"
          ]
        }
      ]
    },
    {
      "cell_type": "code",
      "source": [
        "#Determinar si numero es positivo o negativo\n",
        "num1 = float(input(\"Por favor ingrese un numero \"))\n",
        "\n",
        "#determinar si es positivo o negativo\n",
        "if num1 > 0:\n",
        "  print(f\"{num1} es un numero positivo\")\n",
        "elif num1 < 0:\n",
        "  print(f\"{num1} es un numero negativo\")\n",
        "else:\n",
        "  print(f\"{num1} es cero\")"
      ],
      "metadata": {
        "colab": {
          "base_uri": "https://localhost:8080/"
        },
        "id": "MDsyulikLzAq",
        "outputId": "80fd1a92-46c6-44ee-fa67-03d819204a7e"
      },
      "execution_count": 18,
      "outputs": [
        {
          "output_type": "stream",
          "name": "stdout",
          "text": [
            "Por favor ingrese un numero -2.5\n",
            "-2.5 es un numero negativo\n"
          ]
        }
      ]
    },
    {
      "cell_type": "code",
      "source": [
        "#Calculadora de conversion pesos a dolares\n",
        "\n",
        "import datetime\n",
        "\n",
        "cantidadPesos = int(input(\"Que cantidad quiere cambiar?\"))\n",
        "tasaCambio = float(input(\"Ingrese la tasa de cambio del dia\"))\n",
        "dia = datetime.datetime.now()\n",
        "\n",
        "cantidadDolares = cantidadPesos * tasaCambio \n",
        "\n",
        "print(f\"${cantidadPesos} es ${cantidadDolares} a la tasa de cambio de {dia}.\")"
      ],
      "metadata": {
        "colab": {
          "base_uri": "https://localhost:8080/"
        },
        "id": "rogA1aeUTLtX",
        "outputId": "632bd0d0-9674-43e7-fee9-e0b9f843917d"
      },
      "execution_count": 20,
      "outputs": [
        {
          "output_type": "stream",
          "name": "stdout",
          "text": [
            "Que cantidad quiere cambiar?9000\n",
            "Ingrese la tasa de cambio del dia200\n",
            "$9000 es $1800000.0 a la tasa de cambio de 2022-05-27 17:19:21.536789.\n"
          ]
        }
      ]
    },
    {
      "cell_type": "code",
      "source": [
        "from typing import Optional\n",
        "#Cajero automatico en Python\n",
        "\n",
        "\n",
        "#saldoRetiro = saldoInicial - retiro\n",
        "#saldoDep = saldoInicial + deposito\n",
        "\n",
        "opcion = 0\n",
        "while opcion != 4:\n",
        "  saldoInicial = print(int(input(\"Con cuanto dinero va a abrir la cuenta?\")))\n",
        "  \n",
        "  #saldo = saldoInicial + deposito - retiro\n",
        "\n",
        "  print('''MENU\n",
        "      1. Consulta de saldo\n",
        "      2. Retiro de dinero\n",
        "      3. Deposito de dinero\n",
        "      4. Salir''')\n",
        "\n",
        "  option = int(input(\"Seleccione que desea hacer\"))\n",
        "  saldo = saldoInicial + deposito - retiro\n",
        "  if option == 1:\n",
        "    print(f\"Su saldo es {saldo}\")\n",
        "  elif option == 2:\n",
        "    retiro = print(int(input(\"Cuanto dinero desea retirar?\")))\n",
        "    saldo = saldo - retiro\n",
        "  elif option == 3:\n",
        "    deposito = print(int(input(\"Cuanto dinero desea depositar?\")))\n",
        "    saldo = saldo + deposito\n",
        "  elif option == 4:\n",
        "    print(\"Has elegido salir, que tengas un feliz dia.\")\n",
        "  else:\n",
        "    print(\"Opcion erronea. Intenta de nuevo\")\n",
        "\n",
        "\n"
      ],
      "metadata": {
        "colab": {
          "base_uri": "https://localhost:8080/",
          "height": 390
        },
        "id": "UPsTrTmLh-Y9",
        "outputId": "f94b932d-49dc-40aa-b406-c5859b10f79c"
      },
      "execution_count": 28,
      "outputs": [
        {
          "name": "stdout",
          "output_type": "stream",
          "text": [
            "Con cuanto dinero va a abrir la cuenta?100\n",
            "100\n",
            "MENU\n",
            "      1. Consulta de saldo\n",
            "      2. Retiro de dinero\n",
            "      3. Deposito de dinero\n",
            "      4. Salir\n",
            "Seleccione que desea hacer3\n"
          ]
        },
        {
          "output_type": "error",
          "ename": "TypeError",
          "evalue": "ignored",
          "traceback": [
            "\u001b[0;31m---------------------------------------------------------------------------\u001b[0m",
            "\u001b[0;31mTypeError\u001b[0m                                 Traceback (most recent call last)",
            "\u001b[0;32m<ipython-input-28-a045848ca7ca>\u001b[0m in \u001b[0;36m<module>\u001b[0;34m()\u001b[0m\n\u001b[1;32m     19\u001b[0m \u001b[0;34m\u001b[0m\u001b[0m\n\u001b[1;32m     20\u001b[0m   \u001b[0moption\u001b[0m \u001b[0;34m=\u001b[0m \u001b[0mint\u001b[0m\u001b[0;34m(\u001b[0m\u001b[0minput\u001b[0m\u001b[0;34m(\u001b[0m\u001b[0;34m\"Seleccione que desea hacer\"\u001b[0m\u001b[0;34m)\u001b[0m\u001b[0;34m)\u001b[0m\u001b[0;34m\u001b[0m\u001b[0;34m\u001b[0m\u001b[0m\n\u001b[0;32m---> 21\u001b[0;31m   \u001b[0msaldo\u001b[0m \u001b[0;34m=\u001b[0m \u001b[0msaldoInicial\u001b[0m \u001b[0;34m+\u001b[0m \u001b[0mdeposito\u001b[0m \u001b[0;34m-\u001b[0m \u001b[0mretiro\u001b[0m\u001b[0;34m\u001b[0m\u001b[0;34m\u001b[0m\u001b[0m\n\u001b[0m\u001b[1;32m     22\u001b[0m   \u001b[0;32mif\u001b[0m \u001b[0moption\u001b[0m \u001b[0;34m==\u001b[0m \u001b[0;36m1\u001b[0m\u001b[0;34m:\u001b[0m\u001b[0;34m\u001b[0m\u001b[0;34m\u001b[0m\u001b[0m\n\u001b[1;32m     23\u001b[0m     \u001b[0mprint\u001b[0m\u001b[0;34m(\u001b[0m\u001b[0;34mf\"Su saldo es {saldo}\"\u001b[0m\u001b[0;34m)\u001b[0m\u001b[0;34m\u001b[0m\u001b[0;34m\u001b[0m\u001b[0m\n",
            "\u001b[0;31mTypeError\u001b[0m: unsupported operand type(s) for +: 'NoneType' and 'NoneType'"
          ]
        }
      ]
    },
    {
      "cell_type": "code",
      "source": [
        "import os\n",
        " \n",
        "class Cajero:\n",
        " \n",
        "    def __init__(self):\n",
        "        self.continuar = True\n",
        "        self.monto = 5000\n",
        "        self.menu()\n",
        " \n",
        "    def contraseña(self):\n",
        "        contador = 1\n",
        "        while contador <= 3:\n",
        "            x = int(input(\"ingrese su contraseña:\" ))\n",
        "            if x == 5467:\n",
        "                print(\"Contraseña Correcta\")\n",
        "                break\n",
        "            else:\n",
        "                print(f\"Contraseña Incorrecta, le quedan {3 - contador} intentos\")\n",
        "                if contador == 3:\n",
        "                    print(\"No puede realizar operaciones.\")\n",
        "                    self.continuar = False\n",
        "                contador+=1\n",
        " \n",
        " \n",
        "    def menu(self):\n",
        "        os.system(\"cls\")   #esto es solo para windows\n",
        "        self.contraseña()\n",
        "        opcion = 0\n",
        "        while opcion != \"4\":\n",
        "            os.system(\"cls\")\n",
        "            print(\"\"\" Bienvenido al cajero automatico\n",
        "            ******Menú******\n",
        "            1-  Depositar\n",
        "            2- Retirar\n",
        "            3- Ver saldo\n",
        "            4- Salir \"\"\")\n",
        "            opcion = input(\"Su opción es: \")\n",
        "            if self.continuar:\n",
        "                if opcion == \"1\" :\n",
        "                    self.depositar()\n",
        "                elif opcion == \"2\" :\n",
        "                    self.retiro()\n",
        "                elif opcion == \"3\":\n",
        "                    self.ver()\n",
        "                elif opcion == \"4\":\n",
        "                    print(\"Programa finalizado\")\n",
        "                else:\n",
        "                    print(\"NO existe esa opción\")\n",
        "            else:\n",
        "                if opcion in \"123\":\n",
        "                    print(\"Imposible realizar esa operación\")\n",
        "                elif opcion == \"4\":\n",
        "                    print(\"Programa finalizado\")\n",
        "                else:\n",
        "                    print(\"No existe esa opción\")\n",
        " \n",
        "    def depositar(self):\n",
        "\t    dep = int(input(\"Ingrese su monto a depositar:\"))\n",
        "\t    print(\"Usted a depositado\",dep)\n",
        "\t    print(f\"Su nuevo saldo es {self.monto + dep}\")\n",
        "\t    self.monto+=dep\n",
        " \n",
        "    def retiro(self):\n",
        "        retirar=int(input(\"¿Cuánto desea retirar? : \"))\n",
        "        print(\"Su monto actual es\", self.monto)\n",
        "        girar = self.monto - retirar \n",
        "        if girar > 0:\n",
        "            print(f\"Usted a retirado: {retirar} , su nuevo monto es {self.monto - retirar}\")\n",
        "            self.monto-=retirar\n",
        "        else:\n",
        "            print(\"Imposible realizar el retiro, su monto es menor\")\n",
        " \n",
        "    def ver(self):\n",
        "        print(\"Su saldo es: \" , self.monto)\n",
        " \n",
        "app = Cajero()"
      ],
      "metadata": {
        "colab": {
          "base_uri": "https://localhost:8080/"
        },
        "id": "xqqc3-Y1vZvK",
        "outputId": "df9ba2d9-25c3-4554-f06d-7ecd920ce3f7"
      },
      "execution_count": 32,
      "outputs": [
        {
          "output_type": "stream",
          "name": "stdout",
          "text": [
            "ingrese su contraseña:5467\n",
            "Contraseña Correcta\n",
            " Bienvenido al cajero automatico\n",
            "            ******Menú******\n",
            "            1-  Depositar\n",
            "            2- Retirar\n",
            "            3- Ver saldo\n",
            "            4- Salir \n",
            "Su opción es: 3\n",
            "Su saldo es:  5000\n",
            " Bienvenido al cajero automatico\n",
            "            ******Menú******\n",
            "            1-  Depositar\n",
            "            2- Retirar\n",
            "            3- Ver saldo\n",
            "            4- Salir \n",
            "Su opción es: 2\n",
            "¿Cuánto desea retirar? : 7000\n",
            "Su monto actual es 5000\n",
            "Imposible realizar el retiro, su monto es menor\n",
            " Bienvenido al cajero automatico\n",
            "            ******Menú******\n",
            "            1-  Depositar\n",
            "            2- Retirar\n",
            "            3- Ver saldo\n",
            "            4- Salir \n",
            "Su opción es: 4\n",
            "Programa finalizado\n"
          ]
        }
      ]
    },
    {
      "cell_type": "code",
      "source": [
        "#Tutoria con Liliana Campo T5\n",
        "print(\"Deme numero\")\n",
        "numero = float(input())\n",
        "print(\"redondeo a 1 decimal\", round(numero,1))\n",
        "print(\"redondeo a 2 decimal\", round(numero,2))\n",
        "#redondeo a n decimales round(numero, n)"
      ],
      "metadata": {
        "id": "JsEyzmncQ8Ss"
      },
      "execution_count": null,
      "outputs": []
    },
    {
      "cell_type": "code",
      "source": [
        ""
      ],
      "metadata": {
        "id": "4QWsGc33vZCN"
      },
      "execution_count": null,
      "outputs": []
    }
  ]
}